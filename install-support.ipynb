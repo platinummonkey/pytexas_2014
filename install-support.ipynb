{
 "metadata": {
  "name": "",
  "signature": "sha256:067d3ca1bd28dbf20a5c7151fdcc32c6e537ba7b5c9c27fe0db0b379d36820c8"
 },
 "nbformat": 3,
 "nbformat_minor": 0,
 "worksheets": [
  {
   "cells": [
    {
     "cell_type": "markdown",
     "metadata": {},
     "source": [
      "# Installing the slideshow support\n",
      "\n",
      "**NOTE** The tools here require IPython 1.0, they do *not* work with\n",
      "IPython 0.13.2.\n",
      "\n",
      "You should only need to run this notebook *once*. \n",
      "\n",
      "It will install the slideshow tools in your IPython profile from github.  It's done in steps so you can debug it more easily if things go wrong.\n",
      "\n",
      "Start by getting the location of your current profile:"
     ]
    },
    {
     "cell_type": "code",
     "collapsed": false,
     "input": [
      "profile_dir = get_ipython().profile_dir.location\n",
      "profile_dir"
     ],
     "language": "python",
     "metadata": {},
     "outputs": [
      {
       "metadata": {},
       "output_type": "pyout",
       "prompt_number": 1,
       "text": [
        "u'/home/codylee/.ipython/profile_default'"
       ]
      }
     ],
     "prompt_number": 1
    },
    {
     "cell_type": "markdown",
     "metadata": {},
     "source": [
      "Clone the [Github repo](https://github.com/ipython-contrib/IPython-notebook-extensions) with IPython extensions, including the slideshow support, into the right location:"
     ]
    },
    {
     "cell_type": "code",
     "collapsed": false,
     "input": [
      "import os\n",
      "tgt = os.path.join( profile_dir, 'static', 'custom')\n",
      "!git clone https://github.com/ipython-contrib/IPython-notebook-extensions.git $tgt"
     ],
     "language": "python",
     "metadata": {},
     "outputs": [
      {
       "output_type": "stream",
       "stream": "stdout",
       "text": [
        "Cloning into '/home/codylee/.ipython/profile_default/static/custom'...\r\n"
       ]
      },
      {
       "output_type": "stream",
       "stream": "stdout",
       "text": [
        "remote: Counting objects: 1162, done.\u001b[K\r\n"
       ]
      },
      {
       "output_type": "stream",
       "stream": "stdout",
       "text": [
        "Receiving objects:   0% (1/1162)   \r",
        "Receiving objects:   1% (12/1162)   \r",
        "Receiving objects:   2% (24/1162)   \r",
        "Receiving objects:   3% (35/1162)   \r",
        "Receiving objects:   4% (47/1162)   \r",
        "Receiving objects:   5% (59/1162)   \r",
        "Receiving objects:   6% (70/1162)   \r",
        "Receiving objects:   7% (82/1162)   \r",
        "Receiving objects:   8% (93/1162)   \r",
        "Receiving objects:   9% (105/1162)   \r",
        "Receiving objects:  10% (117/1162)   \r"
       ]
      },
      {
       "output_type": "stream",
       "stream": "stdout",
       "text": [
        "Receiving objects:  11% (128/1162)   \r",
        "Receiving objects:  12% (140/1162)   \r",
        "Receiving objects:  13% (152/1162)   \r"
       ]
      },
      {
       "output_type": "stream",
       "stream": "stdout",
       "text": [
        "Receiving objects:  14% (163/1162)   \r",
        "Receiving objects:  15% (175/1162)   \r",
        "Receiving objects:  16% (186/1162)   \r",
        "Receiving objects:  17% (198/1162)   \r",
        "Receiving objects:  18% (210/1162)   \r",
        "Receiving objects:  19% (221/1162)   \r",
        "Receiving objects:  20% (233/1162)   \r",
        "Receiving objects:  21% (245/1162)   \r",
        "Receiving objects:  22% (256/1162)   \r",
        "Receiving objects:  23% (268/1162)   \r",
        "Receiving objects:  24% (279/1162)   \r",
        "Receiving objects:  25% (291/1162)   \r"
       ]
      },
      {
       "output_type": "stream",
       "stream": "stdout",
       "text": [
        "Receiving objects:  26% (303/1162)   \r",
        "Receiving objects:  27% (314/1162)   \r",
        "Receiving objects:  28% (326/1162)   \r",
        "Receiving objects:  29% (337/1162)   \r"
       ]
      },
      {
       "output_type": "stream",
       "stream": "stdout",
       "text": [
        "Receiving objects:  30% (349/1162)   \r"
       ]
      },
      {
       "output_type": "stream",
       "stream": "stdout",
       "text": [
        "Receiving objects:  30% (353/1162), 908.00 KiB | 852.00 KiB/s   \r"
       ]
      },
      {
       "output_type": "stream",
       "stream": "stdout",
       "text": [
        "Receiving objects:  30% (356/1162), 1.77 MiB | 867.00 KiB/s   \r"
       ]
      },
      {
       "output_type": "stream",
       "stream": "stdout",
       "text": [
        "Receiving objects:  31% (361/1162), 1.77 MiB | 867.00 KiB/s   \r",
        "Receiving objects:  32% (372/1162), 1.77 MiB | 867.00 KiB/s   \r",
        "Receiving objects:  33% (384/1162), 1.77 MiB | 867.00 KiB/s   \r"
       ]
      },
      {
       "output_type": "stream",
       "stream": "stdout",
       "text": [
        "Receiving objects:  34% (396/1162), 1.77 MiB | 867.00 KiB/s   \r",
        "Receiving objects:  35% (407/1162), 1.77 MiB | 867.00 KiB/s   \r",
        "Receiving objects:  36% (419/1162), 1.77 MiB | 867.00 KiB/s   \r",
        "Receiving objects:  37% (430/1162), 1.77 MiB | 867.00 KiB/s   \r",
        "Receiving objects:  38% (442/1162), 1.77 MiB | 867.00 KiB/s   \r"
       ]
      },
      {
       "output_type": "stream",
       "stream": "stdout",
       "text": [
        "Receiving objects:  39% (454/1162), 2.24 MiB | 878.00 KiB/s   \r"
       ]
      },
      {
       "output_type": "stream",
       "stream": "stdout",
       "text": [
        "Receiving objects:  39% (460/1162), 2.24 MiB | 878.00 KiB/s   \r"
       ]
      },
      {
       "output_type": "stream",
       "stream": "stdout",
       "text": [
        "Receiving objects:  40% (465/1162), 2.70 MiB | 886.00 KiB/s   \r"
       ]
      },
      {
       "output_type": "stream",
       "stream": "stdout",
       "text": [
        "Receiving objects:  41% (477/1162), 2.70 MiB | 886.00 KiB/s   \r"
       ]
      },
      {
       "output_type": "stream",
       "stream": "stdout",
       "text": [
        "Receiving objects:  42% (489/1162), 2.70 MiB | 886.00 KiB/s   \r",
        "Receiving objects:  43% (500/1162), 2.70 MiB | 886.00 KiB/s   \r",
        "Receiving objects:  44% (512/1162), 2.70 MiB | 886.00 KiB/s   \r",
        "Receiving objects:  45% (523/1162), 2.70 MiB | 886.00 KiB/s   \r",
        "Receiving objects:  46% (535/1162), 2.70 MiB | 886.00 KiB/s   \r",
        "Receiving objects:  47% (547/1162), 2.70 MiB | 886.00 KiB/s   \r",
        "Receiving objects:  48% (558/1162), 2.70 MiB | 886.00 KiB/s   \r",
        "Receiving objects:  49% (570/1162), 2.70 MiB | 886.00 KiB/s   \r",
        "Receiving objects:  50% (581/1162), 2.70 MiB | 886.00 KiB/s   \r",
        "Receiving objects:  51% (593/1162), 2.70 MiB | 886.00 KiB/s   \r"
       ]
      },
      {
       "output_type": "stream",
       "stream": "stdout",
       "text": [
        "Receiving objects:  52% (605/1162), 2.70 MiB | 886.00 KiB/s   \r",
        "Receiving objects:  53% (616/1162), 2.70 MiB | 886.00 KiB/s   \r",
        "Receiving objects:  54% (628/1162), 2.70 MiB | 886.00 KiB/s   \r",
        "Receiving objects:  55% (640/1162), 2.70 MiB | 886.00 KiB/s   \r",
        "Receiving objects:  56% (651/1162), 2.70 MiB | 886.00 KiB/s   \r",
        "Receiving objects:  57% (663/1162), 2.70 MiB | 886.00 KiB/s   \r",
        "Receiving objects:  58% (674/1162), 2.70 MiB | 886.00 KiB/s   \r",
        "Receiving objects:  59% (686/1162), 2.70 MiB | 886.00 KiB/s   \r",
        "Receiving objects:  60% (698/1162), 2.70 MiB | 886.00 KiB/s   \r",
        "Receiving objects:  61% (709/1162), 2.70 MiB | 886.00 KiB/s   \r",
        "Receiving objects:  62% (721/1162), 2.70 MiB | 886.00 KiB/s   \r",
        "Receiving objects:  63% (733/1162), 2.70 MiB | 886.00 KiB/s   \r",
        "Receiving objects:  64% (744/1162), 2.70 MiB | 886.00 KiB/s   \r"
       ]
      },
      {
       "output_type": "stream",
       "stream": "stdout",
       "text": [
        "Receiving objects:  65% (756/1162), 2.70 MiB | 886.00 KiB/s   \r",
        "Receiving objects:  66% (767/1162), 2.70 MiB | 886.00 KiB/s   \r",
        "Receiving objects:  67% (779/1162), 2.70 MiB | 886.00 KiB/s   \r",
        "Receiving objects:  68% (791/1162), 2.70 MiB | 886.00 KiB/s   \r",
        "Receiving objects:  69% (802/1162), 2.70 MiB | 886.00 KiB/s   \r",
        "Receiving objects:  70% (814/1162), 2.70 MiB | 886.00 KiB/s   \r",
        "Receiving objects:  71% (826/1162), 2.70 MiB | 886.00 KiB/s   \r",
        "Receiving objects:  72% (837/1162), 2.70 MiB | 886.00 KiB/s   \r",
        "Receiving objects:  73% (849/1162), 2.70 MiB | 886.00 KiB/s   \r",
        "Receiving objects:  74% (860/1162), 2.70 MiB | 886.00 KiB/s   \r",
        "Receiving objects:  75% (872/1162), 2.70 MiB | 886.00 KiB/s   \r",
        "Receiving objects:  76% (884/1162), 2.70 MiB | 886.00 KiB/s   \r",
        "Receiving objects:  77% (895/1162), 2.70 MiB | 886.00 KiB/s   \r",
        "Receiving objects:  78% (907/1162), 2.70 MiB | 886.00 KiB/s   \r",
        "Receiving objects:  79% (918/1162), 2.70 MiB | 886.00 KiB/s   \r",
        "Receiving objects:  80% (930/1162), 2.70 MiB | 886.00 KiB/s   \r",
        "Receiving objects:  81% (942/1162), 2.70 MiB | 886.00 KiB/s   \r",
        "Receiving objects:  82% (953/1162), 2.70 MiB | 886.00 KiB/s   \r"
       ]
      },
      {
       "output_type": "stream",
       "stream": "stdout",
       "text": [
        "Receiving objects:  83% (965/1162), 2.70 MiB | 886.00 KiB/s   \r",
        "Receiving objects:  84% (977/1162), 2.70 MiB | 886.00 KiB/s   \r",
        "Receiving objects:  85% (988/1162), 2.70 MiB | 886.00 KiB/s   \r",
        "Receiving objects:  86% (1000/1162), 2.70 MiB | 886.00 KiB/s   \r",
        "Receiving objects:  87% (1011/1162), 2.70 MiB | 886.00 KiB/s   \r",
        "Receiving objects:  88% (1023/1162), 2.70 MiB | 886.00 KiB/s   \r",
        "Receiving objects:  89% (1035/1162), 2.70 MiB | 886.00 KiB/s   \r",
        "Receiving objects:  90% (1046/1162), 2.70 MiB | 886.00 KiB/s   \r",
        "Receiving objects:  91% (1058/1162), 2.70 MiB | 886.00 KiB/s   \r",
        "Receiving objects:  92% (1070/1162), 2.70 MiB | 886.00 KiB/s   \r",
        "Receiving objects:  93% (1081/1162), 2.70 MiB | 886.00 KiB/s   \r",
        "Receiving objects:  94% (1093/1162), 2.70 MiB | 886.00 KiB/s   \r",
        "remote: Total 1162 (delta 0), reused 0 (delta 0)\u001b[K\r\n",
        "Receiving objects:  95% (1104/1162), 2.70 MiB | 886.00 KiB/s   \r",
        "Receiving objects:  96% (1116/1162), 2.70 MiB | 886.00 KiB/s   \r",
        "Receiving objects:  97% (1128/1162), 2.70 MiB | 886.00 KiB/s   \r",
        "Receiving objects:  98% (1139/1162), 2.70 MiB | 886.00 KiB/s   \r",
        "Receiving objects:  99% (1151/1162), 2.70 MiB | 886.00 KiB/s   \r",
        "Receiving objects: 100% (1162/1162), 2.70 MiB | 886.00 KiB/s   \r",
        "Receiving objects: 100% (1162/1162), 3.07 MiB | 886.00 KiB/s, done.\r\n",
        "Resolving deltas:   0% (0/561)   \r",
        "Resolving deltas:   1% (6/561)   \r",
        "Resolving deltas:   2% (12/561)   \r",
        "Resolving deltas:   3% (21/561)   \r",
        "Resolving deltas:   4% (25/561)   \r",
        "Resolving deltas:   7% (43/561)   \r",
        "Resolving deltas:   8% (46/561)   \r",
        "Resolving deltas:   9% (53/561)   \r",
        "Resolving deltas:  10% (60/561)   \r",
        "Resolving deltas:  11% (62/561)   \r",
        "Resolving deltas:  13% (73/561)   \r",
        "Resolving deltas:  14% (83/561)   \r",
        "Resolving deltas:  17% (100/561)   \r",
        "Resolving deltas:  18% (101/561)   \r",
        "Resolving deltas:  19% (109/561)   \r",
        "Resolving deltas:  20% (115/561)   \r",
        "Resolving deltas:  21% (120/561)   \r",
        "Resolving deltas:  22% (124/561)   \r",
        "Resolving deltas:  23% (131/561)   \r",
        "Resolving deltas:  24% (137/561)   \r",
        "Resolving deltas:  26% (148/561)   \r",
        "Resolving deltas:  30% (172/561)   \r",
        "Resolving deltas:  33% (188/561)   \r",
        "Resolving deltas:  37% (209/561)   \r",
        "Resolving deltas:  39% (224/561)   \r",
        "Resolving deltas:  40% (225/561)   \r",
        "Resolving deltas:  41% (234/561)   \r",
        "Resolving deltas:  42% (240/561)   \r",
        "Resolving deltas:  43% (244/561)   \r",
        "Resolving deltas:  44% (247/561)   \r",
        "Resolving deltas:  45% (258/561)   \r",
        "Resolving deltas:  51% (288/561)   \r",
        "Resolving deltas:  53% (299/561)   \r",
        "Resolving deltas:  54% (304/561)   \r",
        "Resolving deltas:  57% (321/561)   \r",
        "Resolving deltas:  60% (341/561)   \r",
        "Resolving deltas:  61% (345/561)   \r",
        "Resolving deltas:  63% (356/561)   \r",
        "Resolving deltas:  64% (361/561)   \r",
        "Resolving deltas:  65% (366/561)   \r"
       ]
      },
      {
       "output_type": "stream",
       "stream": "stdout",
       "text": [
        "Resolving deltas:  66% (375/561)   \r",
        "Resolving deltas:  67% (378/561)   \r",
        "Resolving deltas:  68% (387/561)   \r",
        "Resolving deltas:  69% (389/561)   \r",
        "Resolving deltas:  70% (398/561)   \r",
        "Resolving deltas:  71% (399/561)   \r",
        "Resolving deltas:  72% (407/561)   \r",
        "Resolving deltas:  76% (429/561)   \r",
        "Resolving deltas:  81% (455/561)   \r",
        "Resolving deltas:  84% (476/561)   \r",
        "Resolving deltas:  85% (480/561)   \r",
        "Resolving deltas:  86% (486/561)   \r",
        "Resolving deltas:  87% (491/561)   \r",
        "Resolving deltas:  91% (514/561)   \r",
        "Resolving deltas:  92% (518/561)   \r",
        "Resolving deltas:  93% (522/561)   \r",
        "Resolving deltas:  94% (531/561)   \r",
        "Resolving deltas:  95% (534/561)   \r",
        "Resolving deltas:  96% (542/561)   \r",
        "Resolving deltas:  97% (545/561)   \r",
        "Resolving deltas:  98% (550/561)   \r",
        "Resolving deltas: 100% (561/561)   \r",
        "Resolving deltas: 100% (561/561), done.\r\n",
        "Checking connectivity... done.\r\n"
       ]
      }
     ],
     "prompt_number": 2
    },
    {
     "cell_type": "markdown",
     "metadata": {},
     "source": [
      "Let's `cd` into that directory and check that the contents look right:"
     ]
    },
    {
     "cell_type": "code",
     "collapsed": false,
     "input": [
      "%cd $tgt\n",
      "!ls"
     ],
     "language": "python",
     "metadata": {},
     "outputs": [
      {
       "output_type": "stream",
       "stream": "stdout",
       "text": [
        "/home/codylee/.ipython/profile_default/static/custom\n",
        "COPYING.rst  custom.example.js\tpublishing  README.md  slidemode  styling  testing  usability  wiki-images\r\n"
       ]
      }
     ],
     "prompt_number": 3
    },
    {
     "cell_type": "markdown",
     "metadata": {},
     "source": [
      "Finally, write out a `custom.js` file that has activated the slideshow extension.  This is simply the provided `custom.example.js` file, with two lines commented out. Feel free to add more to activate other extensions, as explained in the `README.md` file:"
     ]
    },
    {
     "cell_type": "code",
     "collapsed": false,
     "input": [
      "%%writefile custom.js\n",
      "// we want strict javascript that fails\n",
      "// on ambiguous syntax\n",
      "\"using strict\";\n",
      "\n",
      "// do not use notebook loaded  event as it is re-triggerd on\n",
      "// revert to checkpoint but this allow extesnsion to be loaded\n",
      "// late enough to work.\n",
      "//\n",
      "\n",
      "$([IPython.events]).on('app_initialized.NotebookApp', function(){\n",
      "\n",
      "\n",
      "    /**  Use path to js file relative to /static/ dir without leading slash, or\n",
      "     *  js extension.\n",
      "     *  Link directly to file is js extension.\n",
      "     *\n",
      "     *  first argument of require is a **list** that can contains several modules if needed.\n",
      "     **/\n",
      "\n",
      "    // require(['custom/noscroll']);\n",
      "    // require(['custom/clean_start'])\n",
      "    // require(['custom/toggle_all_line_number'])\n",
      "    // require(['custom/gist_it']);\n",
      "\n",
      "    /**\n",
      "     *  Link to entrypoint if extesnsion is a folder.\n",
      "     *  to be consistent with commonjs module, the entrypoint is main.js\n",
      "     *  here youcan also trigger a custom function on load that will do extra\n",
      "     *  action with the module if needed\n",
      "     **/\n",
      "     require(['custom/slidemode/main'],function(slidemode){\n",
      "    //     // do stuff\n",
      "     })\n",
      "\n",
      "});\n"
     ],
     "language": "python",
     "metadata": {},
     "outputs": [
      {
       "output_type": "stream",
       "stream": "stdout",
       "text": [
        "Writing custom.js\n"
       ]
      }
     ],
     "prompt_number": 4
    },
    {
     "cell_type": "markdown",
     "metadata": {},
     "source": [
      "That's it! You should now restart your notebook server and reload the pages just to make sure you get fresh CSS.  If everything went well, your toolbar should look like this, with a new button highlighted here in red:\n",
      "\n",
      "![img](files/toolbar-slideshow.png)\n",
      "\n",
      "That new button is the toggle to enter live slideshow mode, which you can use to switch between the normal editing mode (with the whole notebook as one long scrolling document) and the presentation mode.\n",
      "\n",
      "Now that you've read this, look at the accompanying `notebook-slideshow-example` notebook as a starting illustration of how you can write a presentation-oriented notebook."
     ]
    },
    {
     "cell_type": "code",
     "collapsed": false,
     "input": [],
     "language": "python",
     "metadata": {},
     "outputs": [],
     "prompt_number": 4
    },
    {
     "cell_type": "code",
     "collapsed": false,
     "input": [],
     "language": "python",
     "metadata": {},
     "outputs": []
    }
   ],
   "metadata": {}
  }
 ]
}