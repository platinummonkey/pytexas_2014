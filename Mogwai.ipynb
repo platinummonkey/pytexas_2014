{
 "metadata": {
  "celltoolbar": "Slideshow",
  "name": "",
  "signature": "sha256:468d87d2a99ab32a9109f091dd30312e502443a8129c4248664cbedb5c83119a"
 },
 "nbformat": 3,
 "nbformat_minor": 0,
 "worksheets": [
  {
   "cells": [
    {
     "cell_type": "markdown",
     "metadata": {
      "slideshow": {
       "slide_type": "slide"
      }
     },
     "source": [
      "Mogwai: Graph Databases in Your App\n",
      "========================\n",
      "\n",
      "* * *\n",
      "\n",
      "<br />\n",
      "<center>\n",
      "Cody Lee \n",
      "[wellaware.us](http://wellaware.us/)\n",
      "<br /><br />\n",
      "\n",
      "git clone https://github.com/platinummonkey/pytexas_2014.git\n",
      "<br />view the README.rst to begin setting up\n",
      "</center>\n"
     ]
    },
    {
     "cell_type": "markdown",
     "metadata": {
      "slideshow": {
       "slide_type": "slide"
      }
     },
     "source": [
      "Mogwai: Graph Databases for Your App\n",
      "========================\n",
      "\n",
      "Overview\n",
      "-----------\n",
      "\n",
      "* <font color=\"#00F\">Clone the repo ```git clone https://github.com/platinummonkey/pytexas_2014.git```</font>\n",
      "* <font color=\"#00F\">Run the ```./setup_titan.sh``` script (will take a while)</font>\n",
      "* <font color=\"#00F\">Basic GraphDB refresher</font>\n",
      "* Basic Gremlin refresher\n",
      "* Mogwai introduction\n",
      "* GMDB - Graph Movie DataBase"
     ]
    },
    {
     "cell_type": "markdown",
     "metadata": {
      "slideshow": {
       "slide_type": "subslide"
      }
     },
     "source": [
      "Not the Plan\n",
      "========\n",
      "\n",
      "<img src=\"images/scared.jpg\" />"
     ]
    },
    {
     "cell_type": "markdown",
     "metadata": {
      "slideshow": {
       "slide_type": "subslide"
      }
     },
     "source": [
      "Feeling Confused?\n",
      "============\n",
      "\n",
      "<img src=\"images/panda_cart.jpg\" width=\"50%\" />"
     ]
    },
    {
     "cell_type": "markdown",
     "metadata": {
      "slideshow": {
       "slide_type": "subslide"
      }
     },
     "source": [
      "GraphDB Refresher\n",
      "============\n",
      "\n",
      "* NoSQL, Document Store\n",
      "* Index-free Adjacency\n",
      "* Vertices, Edges and Properties\n",
      "\n",
      "<img src=\"images/GraphDatabase_PropertyGraph.png\" alt=\"Wikipedia\"><br /><center>https://en.wikipedia.org/wiki/Graph_database</center>"
     ]
    },
    {
     "cell_type": "markdown",
     "metadata": {
      "slideshow": {
       "slide_type": "subslide"
      }
     },
     "source": [
      "Graph Database: Short List\n",
      "=================\n",
      "\n",
      "* AllegroGraph\n",
      "* BigData\n",
      "* DEX/Sparksee\n",
      "* InfiniteGraph\n",
      "* Neo4j\n",
      "* OrientDB\n",
      "* Titan\n",
      "\n",
      "<img src=\"images/titan-logo2.png\" alt=\"Titan Database\" />"
     ]
    },
    {
     "cell_type": "markdown",
     "metadata": {
      "slideshow": {
       "slide_type": "subslide"
      }
     },
     "source": [
      "Titan\n",
      "===\n",
      "\n",
      "- Designed for Scale\n",
      "- Support for ACID and eventual consistency\n",
      "- Storage backends for Cassandra, HBase and BerkeleyDB\n",
      "- Enhanced search support through ElasticSearch and Lucene\n",
      "- Methods to interface\n",
      "  - Gremlin \n",
      "          // who is hercules' grandfather?\n",
      "          g.V.has('name','hercules').out('father').out('father').name\n",
      "  - Rexster API*\n",
      "          http://localhost:8182/graphs/graph/tp/gremlin?script=g.V.has('name','hercules').out('father').out('father').name"
     ]
    },
    {
     "cell_type": "markdown",
     "metadata": {
      "slideshow": {
       "slide_type": "slide"
      }
     },
     "source": [
      "Overview\n",
      "======\n",
      "\n",
      "* <font color=\"#AAA\"><del>Clone the repo ```git clone https://github.com/platinummonkey/pytexas_2014.git```</del></font>\n",
      "* <font color=\"#AAA\"><del>Run the ```./setup_titan.sh``` script (will take a while)</del></font>\n",
      "* <font color=\"#AAA\"><del>Basic GraphDB refresher</del></font>\n",
      "* <font color=\"#00F\">Basic Gremlin refresher</font>\n",
      "* Mogwai introduction\n",
      "* GMDB - Graph Movie DataBase"
     ]
    },
    {
     "cell_type": "markdown",
     "metadata": {
      "slideshow": {
       "slide_type": "subslide"
      }
     },
     "source": [
      "<img src=\"images/nitty_gritty.jpg\" />"
     ]
    },
    {
     "cell_type": "markdown",
     "metadata": {
      "slideshow": {
       "slide_type": "subslide"
      }
     },
     "source": [
      "Basic Gremlin Refresher\n",
      "===============\n",
      "\n",
      "* What is it?\n",
      "  - Graph Based Traversal Language\n",
      "  - Designed for Property Graphs\n",
      "* Execute complex queries as a graph computation\n",
      "* Gremlin is your glue\n",
      "\n",
      "```\n",
      "// filter people over 30\n",
      "g.V('element_type', 'person').filter{it.age > 30}\n",
      "# Output:\n",
      "# [ {'_id': 8128, '_values': {'name': 'Bob', 'age': 32, 'element_type': 'person'}}, ...]\n",
      "\n",
      "// friends of friends\n",
      "g.v(person.id).out('friends_with').loop(1){it.loops < 3}.path\n",
      "\n",
      "# Output:\n",
      "# [\n",
      "#   [ {'_id': 8128, '_values': {'name': 'Bob', 'element_type': 'person'}},\n",
      "#     {'_id': 8132, '_values': {'name': 'Alice', 'element_type': 'person'}},\n",
      "#     {'_id': 8136, '_values': {'name': 'John', 'element_type': 'person'}}\n",
      "#    ], ...\n",
      "# ]\n",
      "```"
     ]
    },
    {
     "cell_type": "markdown",
     "metadata": {
      "slideshow": {
       "slide_type": "subslide"
      }
     },
     "source": [
      "Gremlin Shell\n",
      "========\n",
      "\n",
      "To the Gremlin REPL!\n",
      "\n",
      "```\n",
      "pushd <gitdir>/titan-0.5.0-hadoop2\n",
      "./bin/gremlin.sh\n",
      "\n",
      "         \\,,,/\n",
      "         (o o)\n",
      "-----oOOo-(_)-oOOo-----\n",
      "gremlin> g = TitanFactory.open('conf/titan-cassandra-es.properties')\n",
      "==>titangraph[cassandrathrift:[127.0.0.1]]\n",
      "gremlin> \n",
      "```\n",
      "\n",
      "When you're done: ```CTRL+C``` + ```popd```"
     ]
    },
    {
     "cell_type": "markdown",
     "metadata": {
      "slideshow": {
       "slide_type": "slide"
      }
     },
     "source": [
      "Overview\n",
      "======\n",
      "\n",
      "* <font color=\"#AAA\"><del>Clone the repo ```git clone https://github.com/platinummonkey/pytexas_2014.git```</del></font>\n",
      "* <font color=\"#AAA\"><del>Run the ```./setup_titan.sh``` script (will take a while)</del></font>\n",
      "* <font color=\"#AAA\"><del>Basic GraphDB refresher</del></font>\n",
      "* <font color=\"#AAA\"><del>Basic Gremlin refresher</del></font>\n",
      "* <font color=\"#00F\">Mogwai introduction</font>\n",
      "* GMDB - Graph Movie DataBase"
     ]
    },
    {
     "cell_type": "markdown",
     "metadata": {
      "slideshow": {
       "slide_type": "subslide"
      }
     },
     "source": [
      "Mogwai\n",
      "======\n",
      "\n",
      "- Object Graph Mapper (OGM) for Titan\n",
      "  - Known to work on Titan 0.4.x and 0.5.x\n",
      "    - No Vertex label support yet\n",
      "- Utilizes RexPro Binary Protocol (TinkerPop 2.x)\n",
      "-   TinkerPop 3.x - will utilize streaming WebSockets\n",
      "- https://bitbucket.org/wellaware/mogwai\n",
      "- http://mogwai.readthedocs.org/\n",
      "\n",
      "<img src=\"images/Gremlin.jpg\" alt=\"Mogwai\" width=\"30%\" />\n",
      "<br /><center><font size=\"-10\">image from megamitensei.wikia.com</font></center>"
     ]
    },
    {
     "cell_type": "markdown",
     "metadata": {
      "slideshow": {
       "slide_type": "subslide"
      }
     },
     "source": [
      "Mogwai: Features\n",
      "================\n",
      "\n",
      "- Apache 2.0 License\n",
      "- Vertex and Edge Support\n",
      "- Query Support\n",
      "- Connection Pooling Support\n",
      "- Concurrency via gevent & eventlet (want more? contribute)\n",
      "- Tested for Python 2.7, 3.3 & 3.4\n",
      "- Supports custom gremlin scripts\n",
      "  - Also supports imports for custom DSL integrations\n",
      "- Performance monitoring support\n",
      "- Save Strategies and Property Validation\n",
      "  - Support for non-modeled properties - dictionary-like access\n",
      "- Factory-Boy support\n"
     ]
    },
    {
     "cell_type": "markdown",
     "metadata": {
      "slideshow": {
       "slide_type": "subslide"
      }
     },
     "source": [
      "Mogwai\n",
      "======\n",
      "\n",
      "Let's get started!\n",
      "\n",
      "Is your database ready? \n",
      "\n",
      "Check with:\n",
      "```\n",
      "$> jps\n",
      "4511 CassandraDaemon\n",
      "5033 Application\n",
      "4904 Elasticsearch\n",
      "```\n",
      "otherwise start with:\n",
      "\n",
      "```pushd titan-0.5.0-hadoop2; ./bin/titan.sh start; popd```"
     ]
    },
    {
     "cell_type": "markdown",
     "metadata": {
      "slideshow": {
       "slide_type": "slide"
      }
     },
     "source": [
      "Mogwai: Basics\n",
      "===========\n",
      "\n",
      "- Connecting to the DB\n",
      "- Modeling Vertices and Edges\n",
      "- CRUD"
     ]
    },
    {
     "cell_type": "code",
     "collapsed": false,
     "input": [
      "%run talktools\n",
      "from pprint import pprint\n",
      "from mogwai.connection import setup\n",
      "setup('localhost', graph_name='sandbox')"
     ],
     "language": "python",
     "metadata": {
      "slideshow": {
       "slide_type": "subslide"
      }
     },
     "outputs": [
      {
       "html": [
        "<style>\n",
        "\n",
        ".rendered_html\n",
        "{\n",
        "  color: #2C5494;\n",
        "  font-family: Ubuntu;\n",
        "  font-size: 140%;\n",
        "  line-height: 1.1;\n",
        "  margin: 0.5em 0;\n",
        "  }\n",
        "\n",
        ".title\n",
        "{\n",
        "  color: #498AF3;\n",
        "  font-size: 250%;\n",
        "  font-weight:bold;\n",
        "  line-height: 1.2; \n",
        "  margin: 10px 50px 10px;\n",
        "  }\n",
        "\n",
        ".subtitle\n",
        "{\n",
        "  color: #386BBC;\n",
        "  font-size: 180%;\n",
        "  font-weight:bold;\n",
        "  line-height: 1.2; \n",
        "  margin: 20px 50px 20px;\n",
        "  }\n",
        "\n",
        ".slide-header, p.slide-header\n",
        "{\n",
        "  color: #498AF3;\n",
        "  font-size: 200%;\n",
        "  font-weight:bold;\n",
        "  margin: 0px 20px 10px;\n",
        "  page-break-before: always;\n",
        "  text-align: center;\n",
        "  }\n",
        "\n",
        ".rendered_html h1\n",
        "{\n",
        "  color: #498AF3;\n",
        "  line-height: 1.2; \n",
        "  margin: 0.15em 0em 0.5em;\n",
        "  page-break-before: always;\n",
        "  text-align: center;\n",
        "  }\n",
        "\n",
        "\n",
        ".rendered_html h2\n",
        "{ \n",
        "  color: #386BBC;\n",
        "  line-height: 1.2;\n",
        "  margin: 1.1em 0em 0.5em;\n",
        "  }\n",
        "\n",
        ".rendered_html h3\n",
        "{ \n",
        "  font-size: 100%;\n",
        "  line-height: 1.2;\n",
        "  margin: 1.1em 0em 0.5em;\n",
        "  }\n",
        "\n",
        ".rendered_html li\n",
        "{\n",
        "  line-height: 1.8;\n",
        "  }\n",
        "\n",
        ".input_prompt, .CodeMirror-lines, .output_area\n",
        "{\n",
        "  font-family: Consolas;\n",
        "  font-size: 120%;\n",
        "  }\n",
        "\n",
        ".gap-above\n",
        "{\n",
        "  padding-top: 200px;\n",
        "  }\n",
        "\n",
        ".gap01\n",
        "{\n",
        "  padding-top: 10px;\n",
        "  }\n",
        "\n",
        ".gap05\n",
        "{\n",
        "  padding-top: 50px;\n",
        "  }\n",
        "\n",
        ".gap1\n",
        "{\n",
        "  padding-top: 100px;\n",
        "  }\n",
        "\n",
        ".gap2\n",
        "{\n",
        "  padding-top: 200px;\n",
        "  }\n",
        "\n",
        ".gap3\n",
        "{\n",
        "  padding-top: 300px;\n",
        "  }\n",
        "\n",
        ".emph\n",
        "{\n",
        "  color: #386BBC;\n",
        "  }\n",
        "\n",
        ".warn\n",
        "{\n",
        "  color: red;\n",
        "  }\n",
        "\n",
        ".center\n",
        "{\n",
        "  text-align: center;\n",
        "  }\n",
        "\n",
        ".nb_link\n",
        "{\n",
        "    padding-bottom: 0.5em;\n",
        "}\n",
        "\n",
        "</style>\n"
       ],
       "metadata": {},
       "output_type": "display_data",
       "text": [
        "<IPython.core.display.HTML at 0x7f290d9beb10>"
       ]
      }
     ],
     "prompt_number": 1
    },
    {
     "cell_type": "code",
     "collapsed": false,
     "input": [
      "from mogwai.models import Vertex, Edge\n",
      "from mogwai.properties import String, Integer\n",
      "\n",
      "_val = 0\n",
      "\n",
      "def counter():\n",
      "    global _val\n",
      "    _val += 1\n",
      "    return _val\n",
      "\n",
      "class MyVertex(Vertex):\n",
      "    element_type = 'my_vertex'\n",
      "    \n",
      "    name = String(default='my vertex')\n",
      "    test_val = Integer(default=counter)\n",
      "\n",
      "\n",
      "class MyEdge(Edge):\n",
      "    label = 'my_edge'\n",
      "    \n",
      "    name = String(default='my edge')\n",
      "    test_val = Integer(default=counter)\n"
     ],
     "language": "python",
     "metadata": {
      "slideshow": {
       "slide_type": "fragment"
      }
     },
     "outputs": [],
     "prompt_number": 2
    },
    {
     "cell_type": "code",
     "collapsed": false,
     "input": [
      "my_vertex_1 = MyVertex.create(name='My Vertex 1')\n",
      "my_vertex_2 = MyVertex.create(name='My Vertex 2')\n",
      "my_edge_1_2 = MyEdge.create(outV=my_vertex_1, inV=my_vertex_2, name='My Edge between Vertex 1 and 2')\n",
      "\n",
      "print my_vertex_1\n",
      "print my_vertex_2\n",
      "print my_edge_1_2"
     ],
     "language": "python",
     "metadata": {
      "slideshow": {
       "slide_type": "subslide"
      }
     },
     "outputs": [
      {
       "output_type": "stream",
       "stream": "stdout",
       "text": [
        "MyVertex(element_type=my_vertex, id=5120256, values={'test_val': 1, 'name': 'My Vertex 1'})\n",
        "MyVertex(element_type=my_vertex, id=5120512, values={'test_val': 2, 'name': 'My Vertex 2'})\n",
        "MyEdge(label=my_edge, id=8u8-31qtc-189h-31r0g, values={'test_val': 3, 'name': 'My Edge between Vertex 1 and 2'})\n"
       ]
      }
     ],
     "prompt_number": 3
    },
    {
     "cell_type": "code",
     "collapsed": false,
     "input": [
      "vertices = MyVertex.all()\n",
      "edges = MyEdge.all([my_edge_1_2.id,])\n",
      "\n",
      "print \"Number of Vertices: {}\\nNumber of Edges: {}\".format(len(vertices), len(edges))\n",
      "\n",
      "print \"Vertices:\"\n",
      "pprint(vertices)\n",
      "\n",
      "\n",
      "print \"\\nEdges:\"\n",
      "pprint(edges)\n"
     ],
     "language": "python",
     "metadata": {
      "slideshow": {
       "slide_type": "fragment"
      }
     },
     "outputs": [
      {
       "output_type": "stream",
       "stream": "stdout",
       "text": [
        "Number of Vertices: 2\n",
        "Number of Edges: 1\n",
        "Vertices:\n",
        "[MyVertex(element_type=my_vertex, id=5120256, values={'test_val': 1, 'name': 'My Vertex 1'}),\n",
        " MyVertex(element_type=my_vertex, id=5120512, values={'test_val': 2, 'name': 'My Vertex 2'})]\n",
        "\n",
        "Edges:\n",
        "[MyEdge(label=my_edge, id=8u8-31qtc-189h-31r0g, values={'test_val': 3, 'name': 'My Edge between Vertex 1 and 2'})]\n"
       ]
      }
     ],
     "prompt_number": 4
    },
    {
     "cell_type": "code",
     "collapsed": false,
     "input": [
      "pprint([my_vertex_1.id, my_vertex_2.id, my_edge_1_2.id])\n",
      "pprint([my_vertex_1.inV(MyEdge), my_vertex_1.outV(MyEdge), my_vertex_1.outV(MyEdge) == [my_vertex_2,]])\n",
      "pprint([my_vertex_2.outV(MyEdge), my_vertex_2.inV(MyEdge), my_vertex_2.inV(MyEdge) == [my_vertex_1,]])\n",
      "pprint([my_vertex_1.outE(MyEdge), my_vertex_2.inE(MyEdge), \n",
      "             my_vertex_1.outE(MyEdge) == my_vertex_2.inE(MyEdge)])\n",
      "pprint([MyEdge.get_between(outV=my_vertex_1, inV=my_vertex_2)])\n",
      "print [MyVertex.get(my_vertex_1.id), MyVertex.get(my_vertex_2.id)] == MyVertex.all([my_vertex_1.id, my_vertex_2.id])"
     ],
     "language": "python",
     "metadata": {
      "slideshow": {
       "slide_type": "slide"
      }
     },
     "outputs": [
      {
       "output_type": "stream",
       "stream": "stdout",
       "text": [
        "['5120256', '5120512', '8u8-31qtc-189h-31r0g']\n",
        "["
       ]
      },
      {
       "output_type": "stream",
       "stream": "stdout",
       "text": [
        "[],\n",
        " [MyVertex(element_type=my_vertex, id=5120512, values={'test_val': 2, 'name': 'My Vertex 2'})],\n",
        " True]\n",
        "[[],\n",
        " [MyVertex(element_type=my_vertex, id=5120256, values={'test_val': 1, 'name': 'My Vertex 1'})],\n",
        " True]\n",
        "["
       ]
      },
      {
       "output_type": "stream",
       "stream": "stdout",
       "text": [
        "[MyEdge(label=my_edge, id=8u8-31qtc-189h-31r0g, values={'test_val': 3, 'name': 'My Edge between Vertex 1 and 2'})],\n",
        " [MyEdge(label=my_edge, id=8u8-31qtc-189h-31r0g, values={'test_val': 3, 'name': 'My Edge between Vertex 1 and 2'})],\n",
        " True]\n",
        "["
       ]
      },
      {
       "output_type": "stream",
       "stream": "stdout",
       "text": [
        "[MyEdge(label=my_edge, id=8u8-31qtc-189h-31r0g, values={'test_val': 3, 'name': 'My Edge between Vertex 1 and 2'})]]\n",
        "True\n"
       ]
      }
     ],
     "prompt_number": 5
    },
    {
     "cell_type": "code",
     "collapsed": false,
     "input": [
      "my_vertex_1.delete()\n",
      "my_vertex_2.delete()"
     ],
     "language": "python",
     "metadata": {
      "slideshow": {
       "slide_type": "fragment"
      }
     },
     "outputs": [],
     "prompt_number": 6
    },
    {
     "cell_type": "markdown",
     "metadata": {
      "slideshow": {
       "slide_type": "slide"
      }
     },
     "source": [
      "Mogwai: Let's get fancy\n",
      "===========\n",
      "\n",
      "- <font color=\"#00F\">Custom Groovy</font>\n",
      "- Relationship Shortcuts\n",
      "- Serialization Example\n",
      "- Non-modeled Properties - dealing with the unknown\n",
      "- Concurrency"
     ]
    },
    {
     "cell_type": "code",
     "collapsed": false,
     "input": [
      "from mogwai.properties import Email, DateTime\n",
      "from mogwai import gremlin\n",
      "from pytz import utc\n",
      "import datetime\n",
      "import os\n",
      "\n",
      "gremlin_path = os.path.join(os.getcwd(), 'custom_gremlin.groovy') # This is a hack for the iPython REPL\n",
      "\n",
      "class IsFriendsWith(Edge):\n",
      "    label = 'is_friends_with'\n",
      "    \n",
      "    since = DateTime(required=True, \n",
      "                                   default=datetime.datetime(2014, 10, 5, 0, 0, tzinfo=utc),  # could be done with a partial ;-)\n",
      "                                   description='Object owned since')\n",
      "\n",
      "    \n",
      "class Person(Vertex):\n",
      "    element_type = 'person'\n",
      "    gremlin_path = gremlin_path\n",
      "    \n",
      "    name = String(required=True, max_length=512)\n",
      "    email = Email(required=True)\n",
      "\n",
      "    friends_and_friends_of_friends = gremlin.GremlinMethod(method_name='friends_and_friends_of_friends',\n",
      "                                                                                                       property=True, \n",
      "                                                                                                       defaults={'friend_edge_label': IsFriendsWith.get_label()})\n",
      "\n",
      "    @property\n",
      "    def friends(self):\n",
      "          return self.bothV(IsFriendsWith)"
     ],
     "language": "python",
     "metadata": {
      "slideshow": {
       "slide_type": "subslide"
      }
     },
     "outputs": [],
     "prompt_number": 8
    },
    {
     "cell_type": "code",
     "collapsed": false,
     "input": [
      "# Create the people\n",
      "bob = Person.create(name='bob', email='bob@example.com')\n",
      "alice = Person.create(name='alice', email='alice@example.com')\n",
      "john = Person.create(name='john', email='john@example.com')\n",
      "tim = Person.create(name='tim', email='tim@example.com')\n",
      "susan = Person.create(name='susan', email='susan@example.com')\n",
      "\n",
      "# Create Friendships\n",
      "IsFriendsWith.create(outV=bob, inV=alice)\n",
      "IsFriendsWith.create(outV=alice, inV=john)\n",
      "IsFriendsWith.create(outV=alice, inV=tim)\n",
      "IsFriendsWith.create(outV=tim, inV=susan)\n",
      "\n",
      "# Who is Bob's direct friends?\n",
      "pprint(bob.friends)"
     ],
     "language": "python",
     "metadata": {
      "slideshow": {
       "slide_type": "fragment"
      }
     },
     "outputs": [
      {
       "output_type": "stream",
       "stream": "stdout",
       "text": [
        "[Person(element_type=person, id=15361024, values={'name': 'alice', 'email': 'alice@example.com'})]\n"
       ]
      }
     ],
     "prompt_number": 9
    },
    {
     "cell_type": "code",
     "collapsed": false,
     "input": [
      "# Who are friends and friends of friends of Bob?\n",
      "pprint(bob.friends_and_friends_of_friends)"
     ],
     "language": "python",
     "metadata": {
      "slideshow": {
       "slide_type": "fragment"
      }
     },
     "outputs": [
      {
       "output_type": "stream",
       "stream": "stdout",
       "text": [
        "[[Person(element_type=person, id=15360768, values={'name': 'bob', 'email': 'bob@example.com'}),\n",
        "  Person(element_type=person, id=15361024, values={'name': 'alice', 'email': 'alice@example.com'}),\n",
        "  Person(element_type=person, id=15361280, values={'name': 'john', 'email': 'john@example.com'})],\n",
        " [Person(element_type=person, id=15360768, values={'name': 'bob', 'email': 'bob@example.com'}),\n",
        "  Person(element_type=person, id=15361024, values={'name': 'alice', 'email': 'alice@example.com'}),\n",
        "  Person(element_type=person, id=15361536, values={'name': 'tim', 'email': 'tim@example.com'})]]\n"
       ]
      }
     ],
     "prompt_number": 10
    },
    {
     "cell_type": "code",
     "collapsed": false,
     "input": [
      "bob.delete()\n",
      "alice.delete()\n",
      "john.delete()\n",
      "tim.delete()\n",
      "susan.delete()"
     ],
     "language": "python",
     "metadata": {
      "slideshow": {
       "slide_type": "fragment"
      }
     },
     "outputs": [],
     "prompt_number": 11
    },
    {
     "cell_type": "markdown",
     "metadata": {
      "slideshow": {
       "slide_type": "slide"
      }
     },
     "source": [
      "Mogwai: Let's get fancy\n",
      "===============\n",
      "\n",
      "- <font color=\"#AAA\"><del>Custom Groovy</del></font>\n",
      "- <font color=\"#00F\">Relationship Shortcuts</font>\n",
      "- Serialization Example\n",
      "- Non-modeled Properties - dealing with the unknown\n",
      "- Concurrency"
     ]
    },
    {
     "cell_type": "code",
     "collapsed": false,
     "input": [
      "from mogwai import relationships\n",
      "\n",
      "class OwnsObject(Edge):\n",
      "    label = 'owns'\n",
      "\n",
      " \n",
      "class Trinket(Vertex):\n",
      "    element_type = 'trinket'\n",
      "    \n",
      "    name = String(required=True, max_length=1024)\n",
      "\n",
      "\n",
      "class Subject(Vertex):\n",
      "    element_type = 'subject'\n",
      "    \n",
      "    name = String(required=True, max_length=512)\n",
      "    \n",
      "    # create shortcut relationship method\n",
      "    owned_trinkets = relationships.Relationship(OwnsObject, Trinket)\n"
     ],
     "language": "python",
     "metadata": {
      "slideshow": {
       "slide_type": "subslide"
      }
     },
     "outputs": [],
     "prompt_number": 12
    },
    {
     "cell_type": "code",
     "collapsed": false,
     "input": [
      "# Create\n",
      "trinket = Trinket.create(name='clock')\n",
      "bob = Subject.create(name='bob')\n",
      "owns_edge = OwnsObject.create(outV=bob, inV=trinket)\n",
      "\n",
      "# Traverse!\n",
      "# Traverse via standard Vertex traversal\n",
      "pprint(bob.outV(OwnsObject))\n",
      "# Traverse via relationship shortcut\n",
      "pprint(bob.owned_trinkets.vertices())"
     ],
     "language": "python",
     "metadata": {
      "slideshow": {
       "slide_type": "fragment"
      }
     },
     "outputs": [
      {
       "output_type": "stream",
       "stream": "stdout",
       "text": [
        "[Trinket(element_type=trinket, id=15362048, values={'name': 'clock'})]\n",
        "[Trinket(element_type=trinket, id=15362048, values={'name': 'clock'})]\n"
       ]
      }
     ],
     "prompt_number": 13
    },
    {
     "cell_type": "markdown",
     "metadata": {
      "slideshow": {
       "slide_type": "slide"
      }
     },
     "source": [
      "Mogwai: Let's get fancy\n",
      "===============\n",
      "\n",
      "- <font color=\"#AAA\"><del>Custom Groovy</del></font>\n",
      "- <font color=\"#AAA\"><del>Relationship Shortcuts</del></font>\n",
      "- <font color=\"#00F\">Serialization Example</font>\n",
      "- Non-modeled Properties - dealing with the unknown\n",
      "- Concurrency"
     ]
    },
    {
     "cell_type": "code",
     "collapsed": false,
     "input": [
      "import pickle\n",
      "\n",
      "bob_serialized = pickle.dumps(bob)\n",
      "trinket_serialized = pickle.dumps(trinket)\n",
      "owns_edge_serialized = pickle.dumps(owns_edge)\n",
      "\n",
      "pprint({'Bob Serialized': bob_serialized, \n",
      "              'Trinket Serialized': trinket_serialized, \n",
      "              'OwnsEdge Serialized': owns_edge_serialized})\n",
      "\n",
      "bob_deserialized = pickle.loads(bob_serialized)\n",
      "trinket_deserialized = pickle.loads(trinket_serialized)\n",
      "owns_edge_deserialized = pickle.loads(owns_edge_serialized)\n",
      "\n",
      "assert bob_deserialized == bob\n",
      "assert trinket_deserialized == trinket\n",
      "assert owns_edge_deserialized == owns_edge"
     ],
     "language": "python",
     "metadata": {
      "slideshow": {
       "slide_type": "subslide"
      }
     },
     "outputs": [
      {
       "output_type": "stream",
       "stream": "stdout",
       "text": [
        "{'Bob Serialized': \"ccopy_reg\\n_reconstructor\\np0\\n(c__main__\\nSubject\\np1\\nc__builtin__\\nobject\\np2\\nNtp3\\nRp4\\n(dp5\\nV_type\\np6\\nVvertex\\np7\\nsV_id\\np8\\nS'15362304'\\np9\\nsV_properties\\np10\\n(dp11\\nVelement_type\\np12\\nVsubject\\np13\\nsVsubject_name\\np14\\nS'bob'\\np15\\nssb.\",\n",
        " 'OwnsEdge Serialized': \"ccopy_reg\\n_reconstructor\\np0\\n(c__main__\\nOwnsObject\\np1\\nc__builtin__\\nobject\\np2\\nNtp3\\nRp4\\n(dp5\\nV_label\\np6\\nVowns\\np7\\nsV_type\\np8\\nVedge\\np9\\nsV_inV\\np10\\nS'15362048'\\np11\\nsV_properties\\np12\\n(dp13\\nsV_outV\\np14\\nS'15362304'\\np15\\nsV_id\\np16\\nS'syjuo-959mo-jz11-959fk'\\np17\\nsb.\",\n",
        " 'Trinket Serialized': \"ccopy_reg\\n_reconstructor\\np0\\n(c__main__\\nTrinket\\np1\\nc__builtin__\\nobject\\np2\\nNtp3\\nRp4\\n(dp5\\nV_type\\np6\\nVvertex\\np7\\nsV_id\\np8\\nS'15362048'\\np9\\nsV_properties\\np10\\n(dp11\\nVtrinket_name\\np12\\nS'clock'\\np13\\nsVelement_type\\np14\\nVtrinket\\np15\\nssb.\"}\n"
       ]
      }
     ],
     "prompt_number": 14
    },
    {
     "cell_type": "markdown",
     "metadata": {
      "slideshow": {
       "slide_type": "subslide"
      }
     },
     "source": [
      "Mogwai: Serialization\n",
      "=============\n",
      "\n",
      "- Works with pickle/cPickle\n",
      "- Easy to adapt to other serialization methods"
     ]
    },
    {
     "cell_type": "markdown",
     "metadata": {
      "slideshow": {
       "slide_type": "slide"
      }
     },
     "source": [
      "Mogwai: Let's get fancy\n",
      "===============\n",
      "\n",
      "- <font color=\"#AAA\"><del>Custom Groovy</del></font>\n",
      "- <font color=\"#AAA\"><del>Relationship Shortcuts</del></font>\n",
      "- <font color=\"#AAA\"><del>Serialization Example</del></font>\n",
      "- <font color=\"#00F\">Non-modeled Properties - dealing with the unknown</font>\n",
      "- Concurrency"
     ]
    },
    {
     "cell_type": "markdown",
     "metadata": {
      "slideshow": {
       "slide_type": "subslide"
      }
     },
     "source": [
      "Mogwai: Non-Modeled Properties\n",
      "=====================\n",
      "\n",
      "- Vertex/Edge is a document\n",
      "- Dynamic Properties?!\n",
      "  - Use it like a document\n",
      "  - SaveStrategy is always ```SaveAlways``` for these"
     ]
    },
    {
     "cell_type": "code",
     "collapsed": false,
     "input": [
      "pprint(trinket)\n",
      "\n",
      "# let's add a \"dynamic\" property that isn't modeled\n",
      "trinket['engraving'] = 'Property of Bob'\n",
      "trinket.save()\n",
      "\n",
      "pprint(trinket)  # What?! ... just wait..\n",
      "\n",
      "pprint(trinket.items())\n",
      "\n",
      "del trinket['engraving']\n",
      "trinket.save()\n",
      "\n",
      "pprint(trinket.items())\n",
      "\n",
      "trinket.delete()\n",
      "bob.delete()"
     ],
     "language": "python",
     "metadata": {
      "slideshow": {
       "slide_type": "fragment"
      }
     },
     "outputs": [
      {
       "output_type": "stream",
       "stream": "stdout",
       "text": [
        "Trinket(element_type=trinket, id=15362048, values={'name': 'clock'})\n",
        "Trinket(element_type=trinket, id=15362048, values={'name': 'clock'})\n",
        "[('name', 'clock'), ('engraving', 'Property of Bob')]\n",
        "["
       ]
      },
      {
       "output_type": "stream",
       "stream": "stdout",
       "text": [
        "('name', 'clock')]\n"
       ]
      }
     ],
     "prompt_number": 15
    },
    {
     "cell_type": "markdown",
     "metadata": {
      "slideshow": {
       "slide_type": "slide"
      }
     },
     "source": [
      "Mogwai: Let's get fancy\n",
      "===============\n",
      "\n",
      "- <font color=\"#AAA\"><del>Custom Groovy</del></font>\n",
      "- <font color=\"#AAA\"><del>Relationship Shortcuts</del></font>\n",
      "- <font color=\"#AAA\"><del>Serialization Example</del></font>\n",
      "- <font color=\"#AAA\"><del>Non-modeled Properties - dealing with the unknown</del></font>\n",
      "- <font color=\"#00F\">Concurrency</font>"
     ]
    },
    {
     "cell_type": "markdown",
     "metadata": {
      "slideshow": {
       "slide_type": "subslide"
      }
     },
     "source": [
      "Mogwai: Concurrency\n",
      "==============\n",
      "\n",
      "- Support for <font color=\"#00F\">eventlet</font> and <font color=\"#00F\">gevent</font>\n",
      "- Default is Synchronous (bad for production, great for development)\n",
      "- Additional concurrency support is welcome via Pull Requests!\n",
      "  - Note: concurrency is actually handled in the rexpro-python library"
     ]
    },
    {
     "cell_type": "markdown",
     "metadata": {
      "slideshow": {
       "slide_type": "fragment"
      }
     },
     "source": [
      "```python\n",
      "\n",
      "from mogwai.connection import setup\n",
      "\n",
      "# eventlet\n",
      "setup('localhost', concurrency='eventlet')\n",
      "# gevent\n",
      "setup('localhost', concurrency='gevent')\n",
      "# synchronous (Default)\n",
      "setup('localhost', concurrency='sync')\n",
      "```"
     ]
    },
    {
     "cell_type": "markdown",
     "metadata": {
      "slideshow": {
       "slide_type": "slide"
      }
     },
     "source": [
      "Overview\n",
      "======\n",
      "\n",
      "* <font color=\"#AAA\"><del>Clone the repo ```git clone https://github.com/platinummonkey/pytexas_2014.git```</del></font>\n",
      "* <font color=\"#AAA\"><del>Run the ```./setup_titan.sh``` script (will take a while)</del></font>\n",
      "* <font color=\"#AAA\"><del>Basic GraphDB refresher</del></font>\n",
      "* <font color=\"#AAA\"><del>Basic Gremlin refresher</del></font>\n",
      "* <font color=\"#AAA\"><del>Mogwai introduction</del></font>\n",
      "* <font color=\"#00F\">GMDB - Graph Movie DataBase</font>"
     ]
    },
    {
     "cell_type": "markdown",
     "metadata": {
      "slideshow": {
       "slide_type": "subslide"
      }
     },
     "source": [
      "Let's make an App!\n",
      "============\n",
      "\n",
      "Graph Movie Database\n",
      "----------------------------\n",
      "\n",
      "- Want to know movie reccomendations?\n",
      "- Want to rate a movie?\n",
      "- Want to do some (for us very simple) analytics?"
     ]
    },
    {
     "cell_type": "markdown",
     "metadata": {},
     "source": [
      "Cool Transition\n",
      "==========\n",
      "\n",
      "<img src=\"images/total-recall-science.jpg\" />"
     ]
    },
    {
     "cell_type": "markdown",
     "metadata": {
      "slideshow": {
       "slide_type": "slide"
      }
     },
     "source": [
      "Mogwai: Future Work\n",
      "==============\n",
      "\n",
      "- Add [gremlinpy](https://github.com/emehrkay/gremlinpy)-like support\n",
      "- Utilize Vertex Labels\n",
      "- TinkerPop3.x future integration\n",
      "  - Streaming results -> asynchronous iterable calls\n",
      "- Migration Support (Targeting Titan 0.5.x and beyond)\n",
      "  - Inspiration from South project\n",
      "  - Forwards and Backwards\n",
      "- Database import/export tools\n",
      "- Integrate with additional Metric collectors\n",
      "- Build in library caching support\n",
      "\n"
     ]
    },
    {
     "cell_type": "markdown",
     "metadata": {
      "slideshow": {
       "slide_type": "slide"
      }
     },
     "source": [
      "Questions?\n",
      "=======\n",
      "\n",
      "- How do I contribute?\n",
      "  - Check out the repository and readthedocs page\n",
      "  - Help with documentation\n",
      "  - Help with new ideas\n",
      "  - Help implement new ideas\n",
      "  - Test on other Blueprints enabled graph databases\n",
      "- What Graph Databases are supported?\n",
      "  - Only TitanDB is tested\n",
      "    - Though any Blueprints enabled graph database will probably work (user beware)\n",
      "- Have an issue?\n",
      "  - Technical Bug? - file an issue on bitbucket\n",
      "  - Implementation problem? - post a question to the mailing list!\n",
      "- Are you hiring at WellAware?\n",
      "  - ** YES ** - come talk to me :)"
     ]
    }
   ],
   "metadata": {}
  }
 ]
}